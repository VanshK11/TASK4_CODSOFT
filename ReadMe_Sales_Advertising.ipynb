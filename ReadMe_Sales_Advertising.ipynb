{
 "cells": [
  {
   "cell_type": "code",
   "execution_count": null,
   "id": "9f419a50-2320-47d2-8d50-d5efdf97a2eb",
   "metadata": {},
   "outputs": [],
   "source": [
    "SALES ADVERTISING PREDICTION"
   ]
  },
  {
   "cell_type": "code",
   "execution_count": null,
   "id": "0551cd9f-63e1-4386-8e77-4ffb3cc9a23c",
   "metadata": {},
   "outputs": [],
   "source": [
    "NAME: VANSH KAKKAR"
   ]
  },
  {
   "cell_type": "code",
   "execution_count": null,
   "id": "47862026-25a6-492c-a4e3-1bf7171cf71c",
   "metadata": {},
   "outputs": [],
   "source": [
    "BATCH: AUGUST"
   ]
  },
  {
   "cell_type": "code",
   "execution_count": null,
   "id": "87522173-0aaa-40cc-9d09-a457bb10d0eb",
   "metadata": {},
   "outputs": [],
   "source": [
    "DATA SCIENCE INTERNSHIP"
   ]
  },
  {
   "cell_type": "code",
   "execution_count": null,
   "id": "b325b84d-2e32-436b-90b6-187e86da8b69",
   "metadata": {},
   "outputs": [],
   "source": [
    "AIM: \n",
    "The Aim Of This Project Is To Predict Sales Based On The Advertising Expenditure. The Dataset Contains Information About Advertising \n",
    "Spending On the different Platform (TV, Radio And Newspaper) And The Corresponding Sales Amount."
   ]
  },
  {
   "cell_type": "code",
   "execution_count": null,
   "id": "84497d08-3141-4469-9f1a-09015227a142",
   "metadata": {},
   "outputs": [],
   "source": [
    "LIBRARIES USED:\n",
    "The Following Important Libraries Were Used For This Project:\n",
    "- numpy\n",
    "- pandas\n",
    "- matplotlib.pyplot\n",
    "- seaborn\n",
    "- sklearn.model_selection.train_test_split\n",
    "- sklearn.linear_model.LinearRegression"
   ]
  },
  {
   "cell_type": "code",
   "execution_count": null,
   "id": "100a627a-102c-4a27-acde-cfecf349d0f3",
   "metadata": {},
   "outputs": [],
   "source": [
    "DATASET:\n",
    "The Dataset Was Loaded Using pandas As A DataFrame From The File \"Sales_Advertising.csv\"."
   ]
  },
  {
   "cell_type": "code",
   "execution_count": null,
   "id": "d2e70c4c-ee34-4204-b11b-749771131542",
   "metadata": {},
   "outputs": [],
   "source": [
    "DATA EXPLORATION AND PREPROCESSING:\n",
    "- The Shape And Descriptive Statistics For The Dataset Were Displayed Using df.shape And df.describe().\n",
    "- A Pair Plot Was Created To Visualize The Relationship Between Advertising Expenditure On TV, Radio, Newspaper, And Sales Using seaborn.pairplot.\n",
    "- Histograms Were Plotted To Observe The Distribution Of Advertising Expenditure On TV, Radio, And Newspaper Using matplotlib.pyplot.hist."
   ]
  },
  {
   "cell_type": "code",
   "execution_count": null,
   "id": "4b02a6b7-d5a8-40e9-9963-eb8de812fca6",
   "metadata": {},
   "outputs": [],
   "source": [
    "CORRELATION ANALYSIS:\n",
    "- A Correlation Matrix Heatmap Was Plotted To Observe The Correlation Between Advertising Expenditure On TV, Radio, Newspaper, And sales \n",
    "  Using seaborn.heatmap."
   ]
  },
  {
   "cell_type": "code",
   "execution_count": null,
   "id": "bb105e32-b167-409e-95bd-3eb3575f8b12",
   "metadata": {},
   "outputs": [],
   "source": [
    "MODEL TRAINING:\n",
    "- The Data Was Split Into Training And Testing Sets Using train_test_split.\n",
    "- Linear Regression Model Was Trained On The Training Data Using sklearn.linear_model.LinearRegression."
   ]
  },
  {
   "cell_type": "code",
   "execution_count": null,
   "id": "5f119064-fd74-47ea-9398-dff5f9605e7c",
   "metadata": {},
   "outputs": [],
   "source": [
    "MODEL PREDICTION: \n",
    "- The Model Was used To Predict Sales Based On Advertising Expenditure On TV For The Test Set Using model.predict(X_test) And The Corresponding \n",
    "  Advertising Expenditure On TV In The Test Set.\n",
    "- The Model Coefficients And Intercept Were Obtained Using model.coef_ And model.intercept_.\n",
    "- The Predictions And Actual Sales Values Were Plotted Using matplotlib.pyplot.plot And matplotlib.pyplot.scatter."
   ]
  }
 ],
 "metadata": {
  "kernelspec": {
   "display_name": "Python 3 (ipykernel)",
   "language": "python",
   "name": "python3"
  },
  "language_info": {
   "codemirror_mode": {
    "name": "ipython",
    "version": 3
   },
   "file_extension": ".py",
   "mimetype": "text/x-python",
   "name": "python",
   "nbconvert_exporter": "python",
   "pygments_lexer": "ipython3",
   "version": "3.12.4"
  }
 },
 "nbformat": 4,
 "nbformat_minor": 5
}
